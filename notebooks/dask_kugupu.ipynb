{
 "cells": [
  {
   "cell_type": "code",
   "execution_count": 1,
   "metadata": {},
   "outputs": [
    {
     "data": {
      "text/html": [
       "<style>#notebook { padding-top:0px !important; } .container { width:95% !important; } .end_space { min-height:0px !important; } </style>"
      ],
      "text/plain": [
       "<IPython.core.display.HTML object>"
      ]
     },
     "metadata": {},
     "output_type": "display_data"
    }
   ],
   "source": [
    "from IPython.core.display import display, HTML\n",
    "display(HTML(\"<style>\"\n",
    "    + \"#notebook { padding-top:0px !important; } \" \n",
    "    + \".container { width:95% !important; } \"\n",
    "    + \".end_space { min-height:0px !important; } \"\n",
    "    + \"</style>\"))\n",
    "\n",
    "import kugupu as kgp\n",
    "import MDAnalysis as mda\n",
    "import numpy as np\n",
    "from scipy import sparse\n",
    "import dask\n",
    "from dask import distributed\n",
    "import multiprocessing"
   ]
  },
  {
   "cell_type": "code",
   "execution_count": 2,
   "metadata": {},
   "outputs": [],
   "source": [
    "c = distributed.Client()"
   ]
  },
  {
   "cell_type": "code",
   "execution_count": 3,
   "metadata": {},
   "outputs": [
    {
     "data": {
      "text/html": [
       "<table style=\"border: 2px solid white;\">\n",
       "<tr>\n",
       "<td style=\"vertical-align: top; border: 0px solid white\">\n",
       "<h3>Client</h3>\n",
       "<ul>\n",
       "  <li><b>Scheduler: </b>tcp://127.0.0.1:51443\n",
       "  <li><b>Dashboard: </b><a href='http://127.0.0.1:8787/status' target='_blank'>http://127.0.0.1:8787/status</a>\n",
       "</ul>\n",
       "</td>\n",
       "<td style=\"vertical-align: top; border: 0px solid white\">\n",
       "<h3>Cluster</h3>\n",
       "<ul>\n",
       "  <li><b>Workers: </b>4</li>\n",
       "  <li><b>Cores: </b>4</li>\n",
       "  <li><b>Memory: </b>8.59 GB</li>\n",
       "</ul>\n",
       "</td>\n",
       "</tr>\n",
       "</table>"
      ],
      "text/plain": [
       "<Client: scheduler='tcp://127.0.0.1:51443' processes=4 cores=4>"
      ]
     },
     "execution_count": 3,
     "metadata": {},
     "output_type": "execute_result"
    }
   ],
   "source": [
    "c"
   ]
  },
  {
   "cell_type": "code",
   "execution_count": 4,
   "metadata": {},
   "outputs": [],
   "source": [
    "u = mda.Universe('./mini.pdb', 'mini.dcd')\n",
    "\n",
    "u.add_TopologyAttr('names')\n",
    "\n",
    "namedict = {\n",
    "    1.008: 'H',\n",
    "    12.011: 'C',\n",
    "    14.007: 'N',\n",
    "    15.999: 'O',\n",
    "    32.06: 'S',\n",
    "}\n",
    "\n",
    "for m, n in namedict.items():\n",
    "    u.atoms[u.atoms.masses == m].names = n"
   ]
  },
  {
   "cell_type": "code",
   "execution_count": 10,
   "metadata": {},
   "outputs": [
    {
     "name": "stderr",
     "output_type": "stream",
     "text": [
      "2019-05-12T21:28:05.374870+0100 INFO Processing 20 frames\n",
      "2019-05-12T21:28:09.766551+0100 INFO Done!\n",
      "2019-05-12T21:28:09.768801+0100 INFO Processing 20 frames\n",
      "2019-05-12T21:28:14.064063+0100 INFO Done!\n",
      "2019-05-12T21:28:14.066447+0100 INFO Processing 20 frames\n",
      "2019-05-12T21:28:18.110425+0100 INFO Done!\n",
      "2019-05-12T21:28:18.112339+0100 INFO Processing 20 frames\n",
      "2019-05-12T21:28:21.885559+0100 INFO Done!\n",
      "2019-05-12T21:28:21.887605+0100 INFO Processing 20 frames\n",
      "2019-05-12T21:28:25.534232+0100 INFO Done!\n",
      "2019-05-12T21:28:25.536762+0100 INFO Processing 20 frames\n",
      "2019-05-12T21:28:29.115742+0100 INFO Done!\n",
      "2019-05-12T21:28:29.118221+0100 INFO Processing 20 frames\n",
      "2019-05-12T21:28:33.325773+0100 INFO Done!\n",
      "2019-05-12T21:28:33.327586+0100 INFO Processing 20 frames\n",
      "2019-05-12T21:28:37.157054+0100 INFO Done!\n"
     ]
    },
    {
     "name": "stdout",
     "output_type": "stream",
     "text": [
      "3.91 s ± 256 ms per loop (mean ± std. dev. of 7 runs, 1 loop each)\n"
     ]
    }
   ],
   "source": [
    "%%time\n",
    "\n",
    "res = kgp.coupling_matrix(u, 5.0, 'lumo', degeneracy=1, client=c)"
   ]
  },
  {
   "cell_type": "code",
   "execution_count": 11,
   "metadata": {},
   "outputs": [
    {
     "name": "stderr",
     "output_type": "stream",
     "text": [
      "2019-05-12T21:28:39.509733+0100 INFO Processing 20 frames\n",
      "2019-05-12T21:28:39.526529+0100 INFO Processing frame 1 of 20\n",
      "2019-05-12T21:28:39.546559+0100 INFO Finding dimers within 5.0, passed 4 fragments\n",
      "2019-05-12T21:28:39.606311+0100 INFO Found 5 dimers\n",
      "100%|██████████| 5/5 [00:00<00:00, 11.59it/s]\n",
      "2019-05-12T21:28:40.047018+0100 INFO Processing frame 2 of 20\n",
      "2019-05-12T21:28:40.066903+0100 INFO Finding dimers within 5.0, passed 4 fragments\n",
      "2019-05-12T21:28:40.104291+0100 INFO Found 4 dimers\n",
      "100%|██████████| 4/4 [00:00<00:00, 14.22it/s]\n",
      "2019-05-12T21:28:40.371600+0100 INFO Processing frame 3 of 20\n",
      "2019-05-12T21:28:40.393362+0100 INFO Finding dimers within 5.0, passed 4 fragments\n",
      "2019-05-12T21:28:40.429054+0100 INFO Found 5 dimers\n",
      "100%|██████████| 5/5 [00:00<00:00, 10.29it/s]\n",
      "2019-05-12T21:28:40.870655+0100 INFO Processing frame 4 of 20\n",
      "2019-05-12T21:28:40.887850+0100 INFO Finding dimers within 5.0, passed 4 fragments\n",
      "2019-05-12T21:28:40.929736+0100 INFO Found 5 dimers\n",
      "100%|██████████| 5/5 [00:00<00:00, 10.46it/s]\n",
      "2019-05-12T21:28:41.397885+0100 INFO Processing frame 5 of 20\n",
      "2019-05-12T21:28:41.414971+0100 INFO Finding dimers within 5.0, passed 4 fragments\n",
      "2019-05-12T21:28:41.450161+0100 INFO Found 5 dimers\n",
      "100%|██████████| 5/5 [00:00<00:00, 13.50it/s]\n",
      "2019-05-12T21:28:41.837823+0100 INFO Processing frame 6 of 20\n",
      "2019-05-12T21:28:41.855991+0100 INFO Finding dimers within 5.0, passed 4 fragments\n",
      "2019-05-12T21:28:41.897138+0100 INFO Found 5 dimers\n",
      "100%|██████████| 5/5 [00:00<00:00, 11.62it/s]\n",
      "2019-05-12T21:28:42.334500+0100 INFO Processing frame 7 of 20\n",
      "2019-05-12T21:28:42.353529+0100 INFO Finding dimers within 5.0, passed 4 fragments\n",
      "2019-05-12T21:28:42.386914+0100 INFO Found 5 dimers\n",
      "100%|██████████| 5/5 [00:00<00:00, 10.89it/s]\n",
      "2019-05-12T21:28:42.814123+0100 INFO Processing frame 8 of 20\n",
      "2019-05-12T21:28:42.837383+0100 INFO Finding dimers within 5.0, passed 4 fragments\n",
      "2019-05-12T21:28:42.879012+0100 INFO Found 5 dimers\n",
      "100%|██████████| 5/5 [00:00<00:00,  8.78it/s]\n",
      "2019-05-12T21:28:43.438238+0100 INFO Processing frame 9 of 20\n",
      "2019-05-12T21:28:43.469182+0100 INFO Finding dimers within 5.0, passed 4 fragments\n",
      "2019-05-12T21:28:43.537765+0100 INFO Found 5 dimers\n",
      "100%|██████████| 5/5 [00:00<00:00, 10.12it/s]\n",
      "2019-05-12T21:28:44.049574+0100 INFO Processing frame 10 of 20\n",
      "2019-05-12T21:28:44.078532+0100 INFO Finding dimers within 5.0, passed 4 fragments\n",
      "2019-05-12T21:28:44.123503+0100 INFO Found 5 dimers\n",
      "100%|██████████| 5/5 [00:00<00:00, 16.23it/s]\n",
      "2019-05-12T21:28:44.436152+0100 INFO Processing frame 11 of 20\n",
      "2019-05-12T21:28:44.454641+0100 INFO Finding dimers within 5.0, passed 4 fragments\n",
      "2019-05-12T21:28:44.500802+0100 INFO Found 5 dimers\n",
      "100%|██████████| 5/5 [00:00<00:00, 14.21it/s]\n",
      "2019-05-12T21:28:44.858287+0100 INFO Processing frame 12 of 20\n",
      "2019-05-12T21:28:44.879392+0100 INFO Finding dimers within 5.0, passed 4 fragments\n",
      "2019-05-12T21:28:44.922966+0100 INFO Found 5 dimers\n",
      "100%|██████████| 5/5 [00:00<00:00,  7.97it/s]\n",
      "2019-05-12T21:28:45.493723+0100 INFO Processing frame 13 of 20\n",
      "2019-05-12T21:28:45.514223+0100 INFO Finding dimers within 5.0, passed 4 fragments\n",
      "2019-05-12T21:28:45.553262+0100 INFO Found 5 dimers\n",
      "100%|██████████| 5/5 [00:00<00:00, 11.89it/s]\n",
      "2019-05-12T21:28:45.982736+0100 INFO Processing frame 14 of 20\n",
      "2019-05-12T21:28:46.000078+0100 INFO Finding dimers within 5.0, passed 4 fragments\n",
      "2019-05-12T21:28:46.038298+0100 INFO Found 5 dimers\n",
      "100%|██████████| 5/5 [00:00<00:00, 16.91it/s]\n",
      "2019-05-12T21:28:46.338612+0100 INFO Processing frame 15 of 20\n",
      "2019-05-12T21:28:46.358236+0100 INFO Finding dimers within 5.0, passed 4 fragments\n",
      "2019-05-12T21:28:46.395360+0100 INFO Found 4 dimers\n",
      "100%|██████████| 4/4 [00:00<00:00, 12.79it/s]\n",
      "2019-05-12T21:28:46.712975+0100 INFO Processing frame 16 of 20\n",
      "2019-05-12T21:28:46.729634+0100 INFO Finding dimers within 5.0, passed 4 fragments\n",
      "2019-05-12T21:28:46.766666+0100 INFO Found 3 dimers\n",
      "100%|██████████| 3/3 [00:00<00:00,  8.24it/s]\n",
      "2019-05-12T21:28:47.205589+0100 INFO Processing frame 17 of 20\n",
      "2019-05-12T21:28:47.218004+0100 INFO Finding dimers within 5.0, passed 4 fragments\n",
      "2019-05-12T21:28:47.254791+0100 INFO Found 3 dimers\n",
      "100%|██████████| 3/3 [00:00<00:00,  6.07it/s]\n",
      "2019-05-12T21:28:47.629193+0100 INFO Processing frame 18 of 20\n",
      "2019-05-12T21:28:47.639891+0100 INFO Finding dimers within 5.0, passed 4 fragments\n",
      "2019-05-12T21:28:47.677097+0100 INFO Found 3 dimers\n",
      "100%|██████████| 3/3 [00:00<00:00, 10.41it/s]\n",
      "2019-05-12T21:28:47.945089+0100 INFO Processing frame 19 of 20\n",
      "2019-05-12T21:28:47.958451+0100 INFO Finding dimers within 5.0, passed 4 fragments\n",
      "2019-05-12T21:28:47.998996+0100 INFO Found 3 dimers\n",
      "100%|██████████| 3/3 [00:00<00:00,  8.45it/s]\n",
      "2019-05-12T21:28:48.405342+0100 INFO Processing frame 20 of 20\n",
      "2019-05-12T21:28:48.416383+0100 INFO Finding dimers within 5.0, passed 4 fragments\n",
      "2019-05-12T21:28:48.448514+0100 INFO Found 1 dimers\n",
      "100%|██████████| 1/1 [00:00<00:00,  4.80it/s]\n",
      "2019-05-12T21:28:48.788859+0100 INFO Done!\n"
     ]
    },
    {
     "name": "stdout",
     "output_type": "stream",
     "text": [
      "CPU times: user 13.4 s, sys: 2.11 s, total: 15.5 s\n",
      "Wall time: 9.28 s\n"
     ]
    }
   ],
   "source": [
    "%%time\n",
    "\n",
    "ref = kgp.coupling_matrix(u, 5.0, 'lumo', degeneracy=1)"
   ]
  }
 ],
 "metadata": {
  "kernelspec": {
   "display_name": "Python 3",
   "language": "python",
   "name": "python3"
  },
  "language_info": {
   "codemirror_mode": {
    "name": "ipython",
    "version": 3
   },
   "file_extension": ".py",
   "mimetype": "text/x-python",
   "name": "python",
   "nbconvert_exporter": "python",
   "pygments_lexer": "ipython3",
   "version": "3.6.7"
  }
 },
 "nbformat": 4,
 "nbformat_minor": 2
}
