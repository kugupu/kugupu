{
 "cells": [
  {
   "cell_type": "markdown",
   "metadata": {},
   "source": [
    "# Molecular network lifetimes with kugupu\n",
    "\n",
    "This notebook shows how the `kugupu.time` submodule can be used to investigate the time dependence of molecular networks."
   ]
  },
  {
   "cell_type": "code",
   "execution_count": null,
   "metadata": {},
   "outputs": [],
   "source": [
    "import matplotlib.pyplot as plt\n",
    "%matplotlib inline\n",
    "import kugupu as kgp\n",
    "import numpy as np"
   ]
  },
  {
   "cell_type": "code",
   "execution_count": null,
   "metadata": {},
   "outputs": [],
   "source": [
    "res = kgp.load_results('./datafiles/results.hdf5')"
   ]
  },
  {
   "cell_type": "code",
   "execution_count": null,
   "metadata": {},
   "outputs": [],
   "source": [
    "res.frames"
   ]
  },
  {
   "cell_type": "markdown",
   "metadata": {},
   "source": [
    "The `kugupu.time.determine_lifetimes` function calculates the duration of each coupling between two fragments.\n",
    "The function returns a one dimensional array of the measured lifetimes of the coupling,\n",
    "as well as a boolean array of if the end of the lifetime was observed.\n",
    "The latter is important in avoiding right censorship when determining the lifetime."
   ]
  },
  {
   "cell_type": "code",
   "execution_count": null,
   "metadata": {},
   "outputs": [],
   "source": [
    "durations, observations = kgp.time.determine_lifetimes(res.H_frag, 0.001)"
   ]
  },
  {
   "cell_type": "markdown",
   "metadata": {},
   "source": [
    "We can plot a histogram of the lifetimes to get an idea of how long our molecules are staying coupled.\n",
    "Here we see that most are only briefly coupled."
   ]
  },
  {
   "cell_type": "code",
   "execution_count": null,
   "metadata": {},
   "outputs": [],
   "source": [
    "fig, ax = plt.subplots()\n",
    "\n",
    "ax.hist(durations)\n",
    "\n",
    "ax.set_title('Distribution of observed coupling lifetimes')\n",
    "ax.set_xlabel('Duration')\n",
    "ax.set_ylabel('Count')"
   ]
  },
  {
   "cell_type": "markdown",
   "metadata": {},
   "source": [
    "We can do a more detailed analysis by fitting a Kaplan-Meier estimator to the data.\n",
    "This is done using an implementation from the `lifelines` Python package."
   ]
  },
  {
   "cell_type": "code",
   "execution_count": null,
   "metadata": {},
   "outputs": [],
   "source": [
    "from lifelines import KaplanMeierFitter\n",
    "from lifelines.plotting import rmst_plot\n",
    "\n",
    "kmf = KaplanMeierFitter()\n",
    "kmf_fit = kmf.fit(durations, event_observed=observations)  "
   ]
  },
  {
   "cell_type": "markdown",
   "metadata": {},
   "source": [
    "This can be plotted to show the estimated rate of decay of a given coupling over time.\n",
    "Here we can see that after 5 frames, only 20% of couplings are expected to still be \"alive\"."
   ]
  },
  {
   "cell_type": "code",
   "execution_count": null,
   "metadata": {},
   "outputs": [],
   "source": [
    "fig, ax = plt.subplots()\n",
    "rmst_plot(kmf_fit,ax=ax)\n",
    "\n",
    "\n",
    "ax.set_ylabel('Fraction alive')\n",
    "ax.set_xlabel('Time (frames)')"
   ]
  },
  {
   "cell_type": "code",
   "execution_count": null,
   "metadata": {},
   "outputs": [],
   "source": []
  }
 ],
 "metadata": {
  "kernelspec": {
   "display_name": "kgp",
   "language": "python",
   "name": "python3"
  },
  "language_info": {
   "codemirror_mode": {
    "name": "ipython",
    "version": 3
   },
   "file_extension": ".py",
   "mimetype": "text/x-python",
   "name": "python",
   "nbconvert_exporter": "python",
   "pygments_lexer": "ipython3",
   "version": "3.13.2"
  }
 },
 "nbformat": 4,
 "nbformat_minor": 2
}
